{
 "cells": [
  {
   "cell_type": "code",
   "execution_count": 1,
   "metadata": {},
   "outputs": [],
   "source": [
    "import numpy as np\n",
    "import matplotlib.pyplot as plt\n",
    "from tqdm import tqdm\n",
    "import pandas as pd\n",
    "import seaborn as sns\n",
    "import pickle\n",
    "import argparse\n",
    "import os\n",
    "\n",
    "import sys\n",
    "from pathlib import Path\n",
    "# Add the parent directory to the system path\n",
    "sys.path.append(str(Path().resolve().parent))\n",
    "\n",
    "from causal_meta_learners.causal_inference_modeling import *\n",
    "from causal_meta_learners.experiment_setup import *\n",
    "from causal_meta_learners.survival_models import *"
   ]
  },
  {
   "cell_type": "markdown",
   "metadata": {},
   "source": [
    "## Initialize the Arguments"
   ]
  },
  {
   "cell_type": "code",
   "execution_count": 2,
   "metadata": {},
   "outputs": [
    {
     "name": "stdout",
     "output_type": "stream",
     "text": [
      "./results_causal_survival_forest_20250131224449\n"
     ]
    }
   ],
   "source": [
    "from datetime import datetime\n",
    "current_datetime = datetime.now().strftime(\"%Y%m%d%H%M%S\")\n",
    "\n",
    "# Simulating command-line arguments in Jupyter Notebook\n",
    "sys.argv = [\n",
    "    \"notebook\", \n",
    "    \"--data_address\", \"../data_splits/mental-health-full/people_dict_unfiltered_expanded.pickle\", \n",
    "    \"--dataframe_address\", \"../data_generation/adherence_export_expanded.csv\", \n",
    "    \"--output_address\", f\"./results_causal_survival_forest_{current_datetime}\",\n",
    "    \"--num_repeats\", \"5\"\n",
    "]\n",
    "\n",
    "parser = argparse.ArgumentParser(description=\"Run experiments with causal survival forest model.\")\n",
    "parser.add_argument(\"--data_address\", type=str, required=True, help=\"Path to the data pickle file.\")\n",
    "parser.add_argument(\"--dataframe_address\", type=str, required=True, help=\"Path to the dataframe CSV file.\")\n",
    "parser.add_argument(\"--output_address\", type=str, required=True, help=\"Path to save the output JSON file.\")\n",
    "parser.add_argument(\"--non_adherence_threshold\", type=float, default=1./3, help=\"Non-adherence threshold.\")\n",
    "parser.add_argument(\"--minimum_num_time_steps\", type=int, default=4, help=\"Minimum number of time steps.\")\n",
    "parser.add_argument(\"--low_occurrency_threshold\", type=int, default=2, help=\"Low occurrence threshold.\")\n",
    "parser.add_argument(\"--experiment_task\", type=str, default=\"survival\", help=\"Experiment task type.\")\n",
    "parser.add_argument(\"--experiment_type\", type=str, default=\"Composite Event\", help=\"Experiment type.\")\n",
    "parser.add_argument(\"--experiment_num\", type=str, default=\"SA\", help=\"Experiment number.\")\n",
    "parser.add_argument(\"--handle_imbalance\", type=bool, default=True, help=\"Handle imbalance in the data.\")\n",
    "parser.add_argument(\"--num_repeats\", type=int, default=5, help=\"Number of random seeds to use.\")\n",
    "\n",
    "args = parser.parse_args()\n",
    "\n",
    "print(args.output_address)"
   ]
  },
  {
   "cell_type": "markdown",
   "metadata": {},
   "source": [
    "## Initial Randomization Setup"
   ]
  },
  {
   "cell_type": "code",
   "execution_count": 3,
   "metadata": {},
   "outputs": [
    {
     "name": "stdout",
     "output_type": "stream",
     "text": [
      "[2732, 9845, 3264, 4859, 9225]\n"
     ]
    }
   ],
   "source": [
    "# Generate random seeds\n",
    "np.random.seed(0)\n",
    "random_seeds = np.random.randint(0, 10000, 10).tolist()\n",
    "random_seeds = random_seeds[:args.num_repeats]\n",
    "print(random_seeds)"
   ]
  },
  {
   "cell_type": "code",
   "execution_count": 4,
   "metadata": {},
   "outputs": [],
   "source": [
    "def set_all_seeds(seed):\n",
    "  random.seed(seed)\n",
    "  os.environ['PYTHONHASHSEED'] = str(seed)\n",
    "  np.random.seed(seed)\n",
    "  torch.manual_seed(seed)\n",
    "  torch.cuda.manual_seed(seed)"
   ]
  },
  {
   "cell_type": "markdown",
   "metadata": {},
   "source": [
    "### Experiment Setup \"SA\":  $((X, f(\\bar{A}_{T-1})), A_T, Y)$ where $f(\\bar{A}_{T})=[A_{1},..., A_{T-1}]$"
   ]
  },
  {
   "cell_type": "code",
   "execution_count": 5,
   "metadata": {},
   "outputs": [],
   "source": [
    "import pickle\n",
    "import pandas as pd\n",
    "import numpy as np\n",
    "import os\n",
    "import rpy2.robjects as ro\n",
    "from rpy2.robjects.packages import importr, PackageNotInstalledError\n",
    "from rpy2.robjects import numpy2ri, FloatVector, r\n",
    "\n",
    "\n",
    "def run_experiment(\n",
    "    data_address, \n",
    "    dataframe_address, \n",
    "    output_address,\n",
    "    non_adherence_threshold=1./3, \n",
    "    minimum_num_time_steps=4, \n",
    "    low_occurrency_threshold=2, \n",
    "    experiment_task=\"survival\", \n",
    "    experiment_type=\"Composite Event\", \n",
    "    experiment_num=\"SA\", \n",
    "    handle_imbalance=True,\n",
    "    continuous_covariates_lst=None, \n",
    "    post_hoc_covariates_lst=None,\n",
    "    random_seeds=[42]\n",
    "):\n",
    "    # Set default covariates if not provided\n",
    "    if continuous_covariates_lst is None:\n",
    "        continuous_covariates_lst = [\n",
    "            'age', 'predicted_PRO_MORTALITY_12MO', 'predicted_PRO_JAILSTAY_12MO', \n",
    "            'predicted_PRO_OVERDOSE_12MO', 'predicted_PRO_302_12MO', 'predicted_PRO_SHELTER_STAY_12MO'\n",
    "        ]\n",
    "    if post_hoc_covariates_lst is None:\n",
    "        post_hoc_covariates_lst = ['covered_by', 'covered_by_injectable']\n",
    "    \n",
    "    # Load data\n",
    "    with open(data_address, 'rb') as handle:\n",
    "        people_dict = pickle.load(handle)\n",
    "    data_df = pd.read_csv(dataframe_address)\n",
    "    \n",
    "    # Initialize or load existing results\n",
    "    results_file = output_address + '.pickle'\n",
    "    if os.path.exists(results_file):\n",
    "        with open(results_file, 'rb') as f:\n",
    "            results = pickle.load(f)\n",
    "    else:\n",
    "        results = {}\n",
    "    \n",
    "    # Save hyperparameters\n",
    "    hyper_params = {\n",
    "        \"data_address\": data_address,\n",
    "        \"dataframe_address\": dataframe_address,\n",
    "        \"output_address\": output_address,\n",
    "        \"non_adherence_threshold\": non_adherence_threshold,\n",
    "        \"minimum_num_time_steps\": minimum_num_time_steps,\n",
    "        \"low_occurrency_threshold\": low_occurrency_threshold,\n",
    "        \"experiment_task\": experiment_task,\n",
    "        \"experiment_type\": experiment_type,\n",
    "        \"experiment_num\": experiment_num,\n",
    "        \"handle_imbalance\": handle_imbalance,\n",
    "        \"continuous_covariates_lst\": continuous_covariates_lst,\n",
    "        \"post_hoc_covariates_lst\": post_hoc_covariates_lst,\n",
    "        \"random_seeds\": random_seeds\n",
    "    }\n",
    "    results[\"hyper_params\"] = hyper_params\n",
    "\n",
    "\n",
    "    # Activate automatic data frame and numpy array conversion\n",
    "    numpy2ri.activate()\n",
    "    stats = importr(\"stats\")  # stats package provides the generic predict function\n",
    "    # Try importing grf package\n",
    "    try:\n",
    "        grf = importr('grf')\n",
    "    except PackageNotInstalledError:\n",
    "        print(\"The 'grf' package is not installed in R. Please install it by running: install.packages('grf') in R.\")\n",
    "\n",
    "\n",
    "    # Run experiments for each model and seed\n",
    "    model_name = 'CausalSurvivalForest'\n",
    "    if model_name not in results:\n",
    "        results[model_name] = {}\n",
    "\n",
    "    for random_seed in random_seeds:\n",
    "        if str(random_seed) in results[model_name]:\n",
    "            print(f\"Skipping {model_name} with random seed {random_seed} as it already exists.\")\n",
    "            continue\n",
    "\n",
    "        set_all_seeds(random_seed)\n",
    "\n",
    "        # Initialize patient data\n",
    "        patient_data = PatientData(\n",
    "            people_dict, data_df, \n",
    "            experiment_type=experiment_type,\n",
    "            task=experiment_task, \n",
    "            non_adherence_threshold=non_adherence_threshold, \n",
    "            minimum_num_time_steps=minimum_num_time_steps, \n",
    "            low_occurrency_threshold=low_occurrency_threshold,\n",
    "            continuous_covariates_lst=continuous_covariates_lst,\n",
    "            post_hoc_covariates_lst=post_hoc_covariates_lst,\n",
    "            random_seed=random_seed\n",
    "        )\n",
    "        causal_data_dict = patient_data.get_causal_data_setup_for_each_experiment(experiment_num, random_state=random_seed)\n",
    "\n",
    "        # Run the causal survival forest model\n",
    "        print(f\"Running {model_name} with random seed {random_seed}...\")\n",
    "\n",
    "        # Convert Python arrays to R objects\n",
    "        X_r = r.matrix(causal_data_dict['X']['total'], nrow=causal_data_dict['X']['total'].shape[0], ncol=causal_data_dict['X']['total'].shape[1])\n",
    "        Y_r = FloatVector(causal_data_dict['Y']['total'][:, 0])\n",
    "        W_r = FloatVector(causal_data_dict['A']['total'])\n",
    "        D_r = FloatVector(causal_data_dict['Y']['total'][:, 1])\n",
    "\n",
    "        # Call causal_survival_forest from grf\n",
    "        cs_forest = grf.causal_survival_forest(\n",
    "            X_r,\n",
    "            Y_r,\n",
    "            W_r,\n",
    "            D_r,\n",
    "            target = \"RMST\",    # specify target as RMST (Restricted Mean Survival Time)\n",
    "            horizon = max(causal_data_dict['Y']['total'][:, 0])   # set horizon to maximum time point\n",
    "        )\n",
    "\n",
    "        # Now use the 'stats' package's predict function, which will dispatch correctly:\n",
    "        cs_pred = stats.predict(cs_forest)\n",
    "\n",
    "        # The result is an R list with a \"predictions\" element. Extract it:\n",
    "        predictions = cs_pred.rx2(\"predictions\")  # Extract \"predictions\" from the R list\n",
    "        predictions_np = np.array(predictions)\n",
    "\n",
    "        results[model_name][str(random_seed)] = {'ITE': predictions_np, 'causal_data_dict': causal_data_dict}\n",
    "\n",
    "        # Save the causal data dict for the run\n",
    "        results[model_name][str(random_seed)]['causal_data_dict'] = causal_data_dict\n",
    "        print(\"-\" * 100)\n",
    "\n",
    "        # Save results incrementally\n",
    "        temp_file = results_file + '.tmp'\n",
    "        with open(temp_file, 'wb') as f:\n",
    "            pickle.dump(results, f)\n",
    "        os.replace(temp_file, results_file)  # Atomically replace the old file with the new one\n",
    "    \n",
    "    print(f\"Results saved to {results_file}\")"
   ]
  },
  {
   "cell_type": "code",
   "execution_count": 6,
   "metadata": {},
   "outputs": [
    {
     "name": "stdout",
     "output_type": "stream",
     "text": [
      "Running CausalSurvivalForest with random seed 2732...\n"
     ]
    },
    {
     "name": "stderr",
     "output_type": "stream",
     "text": [
      "R[write to console]: Warning in (function (X, Y, W, D, W.hat = NULL, target = c(\"RMST\", \"survival.probability\"),  :\n",
      "R[write to console]: \n",
      " \n",
      "R[write to console]:  Estimated censoring probabilities go as low as: 0.04632 - an identifying assumption is that there exists a fixed positive constant M such that the probability of observing an event past the maximum follow-up time  is at least M (i.e. P(T > horizon | X) > M). This warning appears when M is less than 0.05, at which point causal survival forest can not be expected to deliver reliable estimates.\n",
      "\n"
     ]
    },
    {
     "name": "stdout",
     "output_type": "stream",
     "text": [
      "----------------------------------------------------------------------------------------------------\n",
      "Running CausalSurvivalForest with random seed 9845...\n",
      "----------------------------------------------------------------------------------------------------\n",
      "Running CausalSurvivalForest with random seed 3264...\n"
     ]
    },
    {
     "name": "stderr",
     "output_type": "stream",
     "text": [
      "R[write to console]: Warning in (function (X, Y, W, D, W.hat = NULL, target = c(\"RMST\", \"survival.probability\"),  :\n",
      "R[write to console]: \n",
      " \n",
      "R[write to console]:  Estimated censoring probabilities go as low as: 0.04355 - an identifying assumption is that there exists a fixed positive constant M such that the probability of observing an event past the maximum follow-up time  is at least M (i.e. P(T > horizon | X) > M). This warning appears when M is less than 0.05, at which point causal survival forest can not be expected to deliver reliable estimates.\n",
      "\n"
     ]
    },
    {
     "name": "stdout",
     "output_type": "stream",
     "text": [
      "----------------------------------------------------------------------------------------------------\n",
      "[Random-Seed:4859] Standard deviation of columns in the training set is 0 (for one of the treatment assignments). Rearranging the data...\n",
      "Running CausalSurvivalForest with random seed 4859...\n",
      "----------------------------------------------------------------------------------------------------\n",
      "[Random-Seed:9225] Standard deviation of columns in the training set is 0 (for one of the treatment assignments). Rearranging the data...\n",
      "Running CausalSurvivalForest with random seed 9225...\n"
     ]
    },
    {
     "name": "stderr",
     "output_type": "stream",
     "text": [
      "R[write to console]: Warning in (function (X, Y, W, D, W.hat = NULL, target = c(\"RMST\", \"survival.probability\"),  :\n",
      "R[write to console]: \n",
      " \n",
      "R[write to console]:  Estimated censoring probabilities go as low as: 0.04948 - an identifying assumption is that there exists a fixed positive constant M such that the probability of observing an event past the maximum follow-up time  is at least M (i.e. P(T > horizon | X) > M). This warning appears when M is less than 0.05, at which point causal survival forest can not be expected to deliver reliable estimates.\n",
      "\n"
     ]
    },
    {
     "name": "stdout",
     "output_type": "stream",
     "text": [
      "----------------------------------------------------------------------------------------------------\n",
      "Results saved to ./results_causal_survival_forest_20250131224449.pickle\n"
     ]
    }
   ],
   "source": [
    "# current_datetime = datetime.now().strftime(\"%Y%m%d%H%M%S\")\n",
    "# args.output_address = f\"./results_{current_datetime}\"\n",
    "# args.minimum_num_time_steps = 4\n",
    "# print(args.output_address)\n",
    "\n",
    "# Call the function with parsed arguments\n",
    "run_experiment(data_address=args.data_address, dataframe_address=args.dataframe_address,output_address=args.output_address,\n",
    "               non_adherence_threshold=args.non_adherence_threshold, minimum_num_time_steps=args.minimum_num_time_steps,\n",
    "               low_occurrency_threshold=args.low_occurrency_threshold,\n",
    "               experiment_task=args.experiment_task, experiment_type=args.experiment_type, experiment_num=args.experiment_num,\n",
    "               handle_imbalance=args.handle_imbalance, \n",
    "               random_seeds=random_seeds)"
   ]
  },
  {
   "cell_type": "code",
   "execution_count": 12,
   "metadata": {},
   "outputs": [
    {
     "name": "stdout",
     "output_type": "stream",
     "text": [
      "./results_causal_survival_forest_20250131224944\n",
      "[Random-Seed:2732] Standard deviation of columns in the total set is 0 (for one of the treatment assignments). Rearranging the data...\n",
      "Running CausalSurvivalForest with random seed 2732...\n",
      "----------------------------------------------------------------------------------------------------\n",
      "[Random-Seed:9845] Standard deviation of columns in the total set is 0 (for one of the treatment assignments). Rearranging the data...\n",
      "Running CausalSurvivalForest with random seed 9845...\n",
      "----------------------------------------------------------------------------------------------------\n",
      "[Random-Seed:3264] Standard deviation of columns in the total set is 0 (for one of the treatment assignments). Rearranging the data...\n",
      "Running CausalSurvivalForest with random seed 3264...\n",
      "----------------------------------------------------------------------------------------------------\n",
      "[Random-Seed:4859] Standard deviation of columns in the total set is 0 (for one of the treatment assignments). Rearranging the data...\n",
      "Running CausalSurvivalForest with random seed 4859...\n",
      "----------------------------------------------------------------------------------------------------\n",
      "[Random-Seed:9225] Standard deviation of columns in the total set is 0 (for one of the treatment assignments). Rearranging the data...\n",
      "Running CausalSurvivalForest with random seed 9225...\n",
      "----------------------------------------------------------------------------------------------------\n",
      "Results saved to ./results_causal_survival_forest_20250131224944.pickle\n"
     ]
    }
   ],
   "source": [
    "current_datetime = datetime.now().strftime(\"%Y%m%d%H%M%S\")\n",
    "args.output_address = f\"./results_causal_survival_forest_{current_datetime}\"\n",
    "args.minimum_num_time_steps = 7\n",
    "print(args.output_address)\n",
    "\n",
    "# Call the function with parsed arguments\n",
    "run_experiment(data_address=args.data_address, dataframe_address=args.dataframe_address,output_address=args.output_address,\n",
    "               non_adherence_threshold=args.non_adherence_threshold, minimum_num_time_steps=args.minimum_num_time_steps,\n",
    "               low_occurrency_threshold=args.low_occurrency_threshold,\n",
    "               experiment_task=args.experiment_task, experiment_type=args.experiment_type, experiment_num=args.experiment_num,\n",
    "               handle_imbalance=args.handle_imbalance, \n",
    "               random_seeds=random_seeds)"
   ]
  },
  {
   "cell_type": "code",
   "execution_count": 13,
   "metadata": {},
   "outputs": [
    {
     "name": "stdout",
     "output_type": "stream",
     "text": [
      "./results_causal_survival_forest_20250131225024\n",
      "Running CausalSurvivalForest with random seed 2732...\n"
     ]
    },
    {
     "name": "stderr",
     "output_type": "stream",
     "text": [
      "R[write to console]: Warning in (function (X, Y, W, D, W.hat = NULL, target = c(\"RMST\", \"survival.probability\"),  :\n",
      "R[write to console]: \n",
      " \n",
      "R[write to console]:  Estimated censoring probabilities go as low as: 0.04493 - an identifying assumption is that there exists a fixed positive constant M such that the probability of observing an event past the maximum follow-up time  is at least M (i.e. P(T > horizon | X) > M). This warning appears when M is less than 0.05, at which point causal survival forest can not be expected to deliver reliable estimates.\n",
      "\n"
     ]
    },
    {
     "name": "stdout",
     "output_type": "stream",
     "text": [
      "----------------------------------------------------------------------------------------------------\n",
      "Running CausalSurvivalForest with random seed 9845...\n"
     ]
    },
    {
     "name": "stderr",
     "output_type": "stream",
     "text": [
      "R[write to console]: Warning in (function (X, Y, W, D, W.hat = NULL, target = c(\"RMST\", \"survival.probability\"),  :\n",
      "R[write to console]: \n",
      " \n",
      "R[write to console]:  Estimated censoring probabilities go as low as: 0.04112 - an identifying assumption is that there exists a fixed positive constant M such that the probability of observing an event past the maximum follow-up time  is at least M (i.e. P(T > horizon | X) > M). This warning appears when M is less than 0.05, at which point causal survival forest can not be expected to deliver reliable estimates.\n",
      "\n"
     ]
    },
    {
     "name": "stdout",
     "output_type": "stream",
     "text": [
      "----------------------------------------------------------------------------------------------------\n",
      "Running CausalSurvivalForest with random seed 3264...\n",
      "----------------------------------------------------------------------------------------------------\n",
      "[Random-Seed:4859] Standard deviation of columns in the training set is 0 (for one of the treatment assignments). Rearranging the data...\n",
      "Running CausalSurvivalForest with random seed 4859...\n",
      "----------------------------------------------------------------------------------------------------\n",
      "Running CausalSurvivalForest with random seed 9225...\n"
     ]
    },
    {
     "name": "stderr",
     "output_type": "stream",
     "text": [
      "R[write to console]: Warning in (function (X, Y, W, D, W.hat = NULL, target = c(\"RMST\", \"survival.probability\"),  :\n",
      "R[write to console]: \n",
      " \n",
      "R[write to console]:  Estimated censoring probabilities go as low as: 0.04283 - an identifying assumption is that there exists a fixed positive constant M such that the probability of observing an event past the maximum follow-up time  is at least M (i.e. P(T > horizon | X) > M). This warning appears when M is less than 0.05, at which point causal survival forest can not be expected to deliver reliable estimates.\n",
      "\n"
     ]
    },
    {
     "name": "stdout",
     "output_type": "stream",
     "text": [
      "----------------------------------------------------------------------------------------------------\n",
      "Results saved to ./results_causal_survival_forest_20250131225024.pickle\n"
     ]
    }
   ],
   "source": [
    "current_datetime = datetime.now().strftime(\"%Y%m%d%H%M%S\")\n",
    "args.output_address = f\"./results_causal_survival_forest_{current_datetime}\"\n",
    "args.minimum_num_time_steps = 10\n",
    "print(args.output_address)\n",
    "\n",
    "# Call the function with parsed arguments\n",
    "run_experiment(data_address=args.data_address, dataframe_address=args.dataframe_address,output_address=args.output_address,\n",
    "               non_adherence_threshold=args.non_adherence_threshold, minimum_num_time_steps=args.minimum_num_time_steps,\n",
    "               low_occurrency_threshold=args.low_occurrency_threshold,\n",
    "               experiment_task=args.experiment_task, experiment_type=args.experiment_type, experiment_num=args.experiment_num,\n",
    "               handle_imbalance=args.handle_imbalance, \n",
    "               random_seeds=random_seeds)"
   ]
  },
  {
   "cell_type": "code",
   "execution_count": 14,
   "metadata": {},
   "outputs": [
    {
     "name": "stdout",
     "output_type": "stream",
     "text": [
      "./results_causal_survival_forest_20250131225046\n",
      "[Random-Seed:2732] Standard deviation of columns in the training set is 0 (for one of the treatment assignments). Rearranging the data...\n",
      "Running CausalSurvivalForest with random seed 2732...\n"
     ]
    },
    {
     "name": "stderr",
     "output_type": "stream",
     "text": [
      "R[write to console]: Warning in (function (X, Y, W, D, W.hat = NULL, target = c(\"RMST\", \"survival.probability\"),  :\n",
      "R[write to console]: \n",
      " \n",
      "R[write to console]:  Estimated censoring probabilities go as low as: 0.03863 - an identifying assumption is that there exists a fixed positive constant M such that the probability of observing an event past the maximum follow-up time  is at least M (i.e. P(T > horizon | X) > M). This warning appears when M is less than 0.05, at which point causal survival forest can not be expected to deliver reliable estimates.\n",
      "\n"
     ]
    },
    {
     "name": "stdout",
     "output_type": "stream",
     "text": [
      "----------------------------------------------------------------------------------------------------\n",
      "Running CausalSurvivalForest with random seed 9845...\n"
     ]
    },
    {
     "name": "stderr",
     "output_type": "stream",
     "text": [
      "R[write to console]: Warning in (function (X, Y, W, D, W.hat = NULL, target = c(\"RMST\", \"survival.probability\"),  :\n",
      "R[write to console]: \n",
      " \n",
      "R[write to console]:  Estimated censoring probabilities go as low as: 0.03378 - an identifying assumption is that there exists a fixed positive constant M such that the probability of observing an event past the maximum follow-up time  is at least M (i.e. P(T > horizon | X) > M). This warning appears when M is less than 0.05, at which point causal survival forest can not be expected to deliver reliable estimates.\n",
      "\n"
     ]
    },
    {
     "name": "stdout",
     "output_type": "stream",
     "text": [
      "----------------------------------------------------------------------------------------------------\n",
      "[Random-Seed:3264] Standard deviation of columns in the training set is 0 (for one of the treatment assignments). Rearranging the data...\n",
      "Running CausalSurvivalForest with random seed 3264...\n"
     ]
    },
    {
     "name": "stderr",
     "output_type": "stream",
     "text": [
      "R[write to console]: Warning in (function (X, Y, W, D, W.hat = NULL, target = c(\"RMST\", \"survival.probability\"),  :\n",
      "R[write to console]: \n",
      " \n",
      "R[write to console]:  Estimated censoring probabilities go as low as: 0.04209 - an identifying assumption is that there exists a fixed positive constant M such that the probability of observing an event past the maximum follow-up time  is at least M (i.e. P(T > horizon | X) > M). This warning appears when M is less than 0.05, at which point causal survival forest can not be expected to deliver reliable estimates.\n",
      "\n"
     ]
    },
    {
     "name": "stdout",
     "output_type": "stream",
     "text": [
      "----------------------------------------------------------------------------------------------------\n",
      "Running CausalSurvivalForest with random seed 4859...\n"
     ]
    },
    {
     "name": "stderr",
     "output_type": "stream",
     "text": [
      "R[write to console]: Warning in (function (X, Y, W, D, W.hat = NULL, target = c(\"RMST\", \"survival.probability\"),  :\n",
      "R[write to console]: \n",
      " \n",
      "R[write to console]:  Estimated censoring probabilities go as low as: 0.04245 - an identifying assumption is that there exists a fixed positive constant M such that the probability of observing an event past the maximum follow-up time  is at least M (i.e. P(T > horizon | X) > M). This warning appears when M is less than 0.05, at which point causal survival forest can not be expected to deliver reliable estimates.\n",
      "\n"
     ]
    },
    {
     "name": "stdout",
     "output_type": "stream",
     "text": [
      "----------------------------------------------------------------------------------------------------\n",
      "[Random-Seed:9225] Standard deviation of columns in the training set is 0 (for one of the treatment assignments). Rearranging the data...\n",
      "Running CausalSurvivalForest with random seed 9225...\n"
     ]
    },
    {
     "name": "stderr",
     "output_type": "stream",
     "text": [
      "R[write to console]: Warning in (function (X, Y, W, D, W.hat = NULL, target = c(\"RMST\", \"survival.probability\"),  :\n",
      "R[write to console]: \n",
      " \n",
      "R[write to console]:  Estimated censoring probabilities go as low as: 0.04608 - an identifying assumption is that there exists a fixed positive constant M such that the probability of observing an event past the maximum follow-up time  is at least M (i.e. P(T > horizon | X) > M). This warning appears when M is less than 0.05, at which point causal survival forest can not be expected to deliver reliable estimates.\n",
      "\n"
     ]
    },
    {
     "name": "stdout",
     "output_type": "stream",
     "text": [
      "----------------------------------------------------------------------------------------------------\n",
      "Results saved to ./results_causal_survival_forest_20250131225046.pickle\n"
     ]
    }
   ],
   "source": [
    "current_datetime = datetime.now().strftime(\"%Y%m%d%H%M%S\")\n",
    "args.output_address = f\"./results_causal_survival_forest_{current_datetime}\"\n",
    "args.minimum_num_time_steps = 13\n",
    "print(args.output_address)\n",
    "\n",
    "# Call the function with parsed arguments\n",
    "run_experiment(data_address=args.data_address, dataframe_address=args.dataframe_address,output_address=args.output_address,\n",
    "               non_adherence_threshold=args.non_adherence_threshold, minimum_num_time_steps=args.minimum_num_time_steps,\n",
    "               low_occurrency_threshold=args.low_occurrency_threshold,\n",
    "               experiment_task=args.experiment_task, experiment_type=args.experiment_type, experiment_num=args.experiment_num,\n",
    "               handle_imbalance=args.handle_imbalance, \n",
    "               random_seeds=random_seeds)"
   ]
  },
  {
   "cell_type": "code",
   "execution_count": 15,
   "metadata": {},
   "outputs": [
    {
     "name": "stdout",
     "output_type": "stream",
     "text": [
      "./results_causal_survival_forest_20250131225108\n",
      "[Random-Seed:2732] Standard deviation of columns in the total set is 0 (for one of the treatment assignments). Rearranging the data...\n",
      "Running CausalSurvivalForest with random seed 2732...\n",
      "----------------------------------------------------------------------------------------------------\n",
      "[Random-Seed:9845] Standard deviation of columns in the total set is 0 (for one of the treatment assignments). Rearranging the data...\n",
      "Running CausalSurvivalForest with random seed 9845...\n",
      "----------------------------------------------------------------------------------------------------\n",
      "[Random-Seed:3264] Standard deviation of columns in the total set is 0 (for one of the treatment assignments). Rearranging the data...\n",
      "Running CausalSurvivalForest with random seed 3264...\n",
      "----------------------------------------------------------------------------------------------------\n",
      "[Random-Seed:4859] Standard deviation of columns in the total set is 0 (for one of the treatment assignments). Rearranging the data...\n",
      "Running CausalSurvivalForest with random seed 4859...\n",
      "----------------------------------------------------------------------------------------------------\n",
      "[Random-Seed:9225] Standard deviation of columns in the total set is 0 (for one of the treatment assignments). Rearranging the data...\n",
      "Running CausalSurvivalForest with random seed 9225...\n",
      "----------------------------------------------------------------------------------------------------\n",
      "Results saved to ./results_causal_survival_forest_20250131225108.pickle\n"
     ]
    }
   ],
   "source": [
    "current_datetime = datetime.now().strftime(\"%Y%m%d%H%M%S\")\n",
    "args.output_address = f\"./results_causal_survival_forest_{current_datetime}\"\n",
    "args.minimum_num_time_steps = 19\n",
    "print(args.output_address)\n",
    "\n",
    "# Call the function with parsed arguments\n",
    "run_experiment(data_address=args.data_address, dataframe_address=args.dataframe_address,output_address=args.output_address,\n",
    "               non_adherence_threshold=args.non_adherence_threshold, minimum_num_time_steps=args.minimum_num_time_steps,\n",
    "               low_occurrency_threshold=args.low_occurrency_threshold,\n",
    "               experiment_task=args.experiment_task, experiment_type=args.experiment_type, experiment_num=args.experiment_num,\n",
    "               handle_imbalance=args.handle_imbalance, \n",
    "               random_seeds=random_seeds)"
   ]
  },
  {
   "cell_type": "code",
   "execution_count": 16,
   "metadata": {},
   "outputs": [
    {
     "name": "stdout",
     "output_type": "stream",
     "text": [
      "./results_causal_survival_forest_20250131225115\n",
      "[Random-Seed:2732] Standard deviation of columns in the total set is 0 (for one of the treatment assignments). Rearranging the data...\n",
      "Running CausalSurvivalForest with random seed 2732...\n",
      "----------------------------------------------------------------------------------------------------\n",
      "[Random-Seed:9845] Standard deviation of columns in the total set is 0 (for one of the treatment assignments). Rearranging the data...\n",
      "Running CausalSurvivalForest with random seed 9845...\n",
      "----------------------------------------------------------------------------------------------------\n",
      "[Random-Seed:3264] Standard deviation of columns in the total set is 0 (for one of the treatment assignments). Rearranging the data...\n",
      "Running CausalSurvivalForest with random seed 3264...\n",
      "----------------------------------------------------------------------------------------------------\n",
      "[Random-Seed:4859] Standard deviation of columns in the total set is 0 (for one of the treatment assignments). Rearranging the data...\n",
      "Running CausalSurvivalForest with random seed 4859...\n",
      "----------------------------------------------------------------------------------------------------\n",
      "[Random-Seed:9225] Standard deviation of columns in the total set is 0 (for one of the treatment assignments). Rearranging the data...\n",
      "Running CausalSurvivalForest with random seed 9225...\n",
      "----------------------------------------------------------------------------------------------------\n",
      "Results saved to ./results_causal_survival_forest_20250131225115.pickle\n"
     ]
    }
   ],
   "source": [
    "current_datetime = datetime.now().strftime(\"%Y%m%d%H%M%S\")\n",
    "args.output_address = f\"./results_causal_survival_forest_{current_datetime}\"\n",
    "args.minimum_num_time_steps = 25\n",
    "print(args.output_address)\n",
    "\n",
    "# Call the function with parsed arguments\n",
    "run_experiment(data_address=args.data_address, dataframe_address=args.dataframe_address,output_address=args.output_address,\n",
    "               non_adherence_threshold=args.non_adherence_threshold, minimum_num_time_steps=args.minimum_num_time_steps,\n",
    "               low_occurrency_threshold=args.low_occurrency_threshold,\n",
    "               experiment_task=args.experiment_task, experiment_type=args.experiment_type, experiment_num=args.experiment_num,\n",
    "               handle_imbalance=args.handle_imbalance, \n",
    "               random_seeds=random_seeds)"
   ]
  },
  {
   "cell_type": "code",
   "execution_count": 17,
   "metadata": {},
   "outputs": [
    {
     "name": "stdout",
     "output_type": "stream",
     "text": [
      "./results_causal_survival_forest_20250131225122\n",
      "[Random-Seed:2732] Standard deviation of columns in the training set is 0 (for one of the treatment assignments). Rearranging the data...\n",
      "Running CausalSurvivalForest with random seed 2732...\n",
      "----------------------------------------------------------------------------------------------------\n",
      "[Random-Seed:9845] Standard deviation of columns in the training set is 0 (for one of the treatment assignments). Rearranging the data...\n",
      "Running CausalSurvivalForest with random seed 9845...\n",
      "----------------------------------------------------------------------------------------------------\n",
      "Running CausalSurvivalForest with random seed 3264...\n",
      "----------------------------------------------------------------------------------------------------\n",
      "Running CausalSurvivalForest with random seed 4859...\n",
      "----------------------------------------------------------------------------------------------------\n",
      "Running CausalSurvivalForest with random seed 9225...\n",
      "----------------------------------------------------------------------------------------------------\n",
      "Results saved to ./results_causal_survival_forest_20250131225122.pickle\n"
     ]
    }
   ],
   "source": [
    "current_datetime = datetime.now().strftime(\"%Y%m%d%H%M%S\")\n",
    "args.output_address = f\"./results_causal_survival_forest_{current_datetime}\"\n",
    "args.minimum_num_time_steps = 37\n",
    "print(args.output_address)\n",
    "\n",
    "# Call the function with parsed arguments\n",
    "run_experiment(data_address=args.data_address, dataframe_address=args.dataframe_address,output_address=args.output_address,\n",
    "               non_adherence_threshold=args.non_adherence_threshold, minimum_num_time_steps=args.minimum_num_time_steps,\n",
    "               low_occurrency_threshold=args.low_occurrency_threshold,\n",
    "               experiment_task=args.experiment_task, experiment_type=args.experiment_type, experiment_num=args.experiment_num,\n",
    "               handle_imbalance=args.handle_imbalance, \n",
    "               random_seeds=random_seeds)"
   ]
  }
 ],
 "metadata": {
  "kernelspec": {
   "display_name": "surv_kernet",
   "language": "python",
   "name": "python3"
  },
  "language_info": {
   "codemirror_mode": {
    "name": "ipython",
    "version": 3
   },
   "file_extension": ".py",
   "mimetype": "text/x-python",
   "name": "python",
   "nbconvert_exporter": "python",
   "pygments_lexer": "ipython3",
   "version": "3.9.18"
  }
 },
 "nbformat": 4,
 "nbformat_minor": 2
}
